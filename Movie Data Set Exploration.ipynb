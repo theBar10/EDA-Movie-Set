{
 "cells": [
  {
   "cell_type": "markdown",
   "metadata": {},
   "source": [
    "# IMDB Data Analysis"
   ]
  },
  {
   "cell_type": "markdown",
   "metadata": {},
   "source": [
    "This analysis is looking at a data set for movies.  Below are the steps that were taken to clean the data, check the quality of the data, and explore the data.  During the exploration process the use of visual representation will aid in answer the important questions like:\n",
    "\n",
    "*Does the budget amount predict the average vote of a movie?*\n",
    "\n",
    "*Does the old adage that you have to spend money to make money hold true for movies? If so, what is the optimal expenditure or does it not drop off?*\n",
    "\n",
    "*Does the number of movies being released correlate to the state of the economy?*"
   ]
  },
  {
   "cell_type": "code",
   "execution_count": 1,
   "metadata": {},
   "outputs": [
    {
     "data": {
      "text/html": [
       "<div>\n",
       "<style>\n",
       "    .dataframe thead tr:only-child th {\n",
       "        text-align: right;\n",
       "    }\n",
       "\n",
       "    .dataframe thead th {\n",
       "        text-align: left;\n",
       "    }\n",
       "\n",
       "    .dataframe tbody tr th {\n",
       "        vertical-align: top;\n",
       "    }\n",
       "</style>\n",
       "<table border=\"1\" class=\"dataframe\">\n",
       "  <thead>\n",
       "    <tr style=\"text-align: right;\">\n",
       "      <th></th>\n",
       "      <th>id</th>\n",
       "      <th>imdb_id</th>\n",
       "      <th>popularity</th>\n",
       "      <th>budget</th>\n",
       "      <th>revenue</th>\n",
       "      <th>original_title</th>\n",
       "      <th>cast</th>\n",
       "      <th>homepage</th>\n",
       "      <th>director</th>\n",
       "      <th>tagline</th>\n",
       "      <th>...</th>\n",
       "      <th>overview</th>\n",
       "      <th>runtime</th>\n",
       "      <th>genres</th>\n",
       "      <th>production_companies</th>\n",
       "      <th>release_date</th>\n",
       "      <th>vote_count</th>\n",
       "      <th>vote_average</th>\n",
       "      <th>release_year</th>\n",
       "      <th>budget_adj</th>\n",
       "      <th>revenue_adj</th>\n",
       "    </tr>\n",
       "  </thead>\n",
       "  <tbody>\n",
       "    <tr>\n",
       "      <th>0</th>\n",
       "      <td>135397</td>\n",
       "      <td>tt0369610</td>\n",
       "      <td>32.985763</td>\n",
       "      <td>150000000</td>\n",
       "      <td>1513528810</td>\n",
       "      <td>Jurassic World</td>\n",
       "      <td>Chris Pratt|Bryce Dallas Howard|Irrfan Khan|Vi...</td>\n",
       "      <td>http://www.jurassicworld.com/</td>\n",
       "      <td>Colin Trevorrow</td>\n",
       "      <td>The park is open.</td>\n",
       "      <td>...</td>\n",
       "      <td>Twenty-two years after the events of Jurassic ...</td>\n",
       "      <td>124</td>\n",
       "      <td>Action|Adventure|Science Fiction|Thriller</td>\n",
       "      <td>Universal Studios|Amblin Entertainment|Legenda...</td>\n",
       "      <td>6/9/2015</td>\n",
       "      <td>5562</td>\n",
       "      <td>6.5</td>\n",
       "      <td>2015</td>\n",
       "      <td>137999939.3</td>\n",
       "      <td>1.392446e+09</td>\n",
       "    </tr>\n",
       "  </tbody>\n",
       "</table>\n",
       "<p>1 rows × 21 columns</p>\n",
       "</div>"
      ],
      "text/plain": [
       "       id    imdb_id  popularity     budget     revenue  original_title  \\\n",
       "0  135397  tt0369610   32.985763  150000000  1513528810  Jurassic World   \n",
       "\n",
       "                                                cast  \\\n",
       "0  Chris Pratt|Bryce Dallas Howard|Irrfan Khan|Vi...   \n",
       "\n",
       "                        homepage         director            tagline  \\\n",
       "0  http://www.jurassicworld.com/  Colin Trevorrow  The park is open.   \n",
       "\n",
       "       ...                                                overview runtime  \\\n",
       "0      ...       Twenty-two years after the events of Jurassic ...     124   \n",
       "\n",
       "                                      genres  \\\n",
       "0  Action|Adventure|Science Fiction|Thriller   \n",
       "\n",
       "                                production_companies release_date vote_count  \\\n",
       "0  Universal Studios|Amblin Entertainment|Legenda...     6/9/2015       5562   \n",
       "\n",
       "   vote_average  release_year   budget_adj   revenue_adj  \n",
       "0           6.5          2015  137999939.3  1.392446e+09  \n",
       "\n",
       "[1 rows x 21 columns]"
      ]
     },
     "execution_count": 1,
     "metadata": {},
     "output_type": "execute_result"
    }
   ],
   "source": [
    "# need to import a couple libaries to aid in working with this data set\n",
    "import pandas as pd\n",
    "import numpy as np\n",
    "import matplotlib.pyplot as plt\n",
    "\n",
    "# matplotlib inline to show graphs in line with the code in this jupter notebook.\n",
    "% matplotlib inline\n",
    "\n",
    "# reading the data set from the downloaded CSV file.\n",
    "df_main = pd.read_csv('tmdb-movies.csv')\n",
    "\n",
    "# validating that the data came in correctly and that\n",
    "# the data was seperated by a comma and not a different charcter.\n",
    "df_main.head(1)"
   ]
  },
  {
   "cell_type": "markdown",
   "metadata": {},
   "source": [
    "The data above appears to have imported correctly with a comma as the separator.\n",
    "\n",
    "Now it is time to find out exactly how the data is structed and what data is available.\n",
    "\n",
    "This will reveal if or how much wrangling needs done before exploring the data set."
   ]
  },
  {
   "cell_type": "code",
   "execution_count": 2,
   "metadata": {},
   "outputs": [
    {
     "data": {
      "text/plain": [
       "id                         0\n",
       "imdb_id                   10\n",
       "popularity                 0\n",
       "budget                     0\n",
       "revenue                    0\n",
       "original_title             0\n",
       "cast                      76\n",
       "homepage                7930\n",
       "director                  44\n",
       "tagline                 2824\n",
       "keywords                1493\n",
       "overview                   4\n",
       "runtime                    0\n",
       "genres                    23\n",
       "production_companies    1030\n",
       "release_date               0\n",
       "vote_count                 0\n",
       "vote_average               0\n",
       "release_year               0\n",
       "budget_adj                 0\n",
       "revenue_adj                0\n",
       "dtype: int64"
      ]
     },
     "execution_count": 2,
     "metadata": {},
     "output_type": "execute_result"
    }
   ],
   "source": [
    "#checking how many movies have blank sections of data.\n",
    "df_main.isnull().sum()"
   ]
  },
  {
   "cell_type": "code",
   "execution_count": 3,
   "metadata": {},
   "outputs": [
    {
     "data": {
      "text/plain": [
       "id                        int64\n",
       "imdb_id                  object\n",
       "popularity              float64\n",
       "budget                    int64\n",
       "revenue                   int64\n",
       "original_title           object\n",
       "cast                     object\n",
       "homepage                 object\n",
       "director                 object\n",
       "tagline                  object\n",
       "keywords                 object\n",
       "overview                 object\n",
       "runtime                   int64\n",
       "genres                   object\n",
       "production_companies     object\n",
       "release_date             object\n",
       "vote_count                int64\n",
       "vote_average            float64\n",
       "release_year              int64\n",
       "budget_adj              float64\n",
       "revenue_adj             float64\n",
       "dtype: object"
      ]
     },
     "execution_count": 3,
     "metadata": {},
     "output_type": "execute_result"
    }
   ],
   "source": [
    "#determining what the data types are for the data that was just imported.\n",
    "#int64 are whole numbers, float64 are decimels, and object are strings. \n",
    "df_main.dtypes"
   ]
  },
  {
   "cell_type": "code",
   "execution_count": 4,
   "metadata": {},
   "outputs": [
    {
     "data": {
      "text/html": [
       "<div>\n",
       "<style>\n",
       "    .dataframe thead tr:only-child th {\n",
       "        text-align: right;\n",
       "    }\n",
       "\n",
       "    .dataframe thead th {\n",
       "        text-align: left;\n",
       "    }\n",
       "\n",
       "    .dataframe tbody tr th {\n",
       "        vertical-align: top;\n",
       "    }\n",
       "</style>\n",
       "<table border=\"1\" class=\"dataframe\">\n",
       "  <thead>\n",
       "    <tr style=\"text-align: right;\">\n",
       "      <th></th>\n",
       "      <th>id</th>\n",
       "      <th>popularity</th>\n",
       "      <th>budget</th>\n",
       "      <th>revenue</th>\n",
       "      <th>runtime</th>\n",
       "      <th>vote_count</th>\n",
       "      <th>vote_average</th>\n",
       "      <th>release_year</th>\n",
       "      <th>budget_adj</th>\n",
       "      <th>revenue_adj</th>\n",
       "    </tr>\n",
       "  </thead>\n",
       "  <tbody>\n",
       "    <tr>\n",
       "      <th>count</th>\n",
       "      <td>10866.000000</td>\n",
       "      <td>10866.000000</td>\n",
       "      <td>1.086600e+04</td>\n",
       "      <td>1.086600e+04</td>\n",
       "      <td>10866.000000</td>\n",
       "      <td>10866.000000</td>\n",
       "      <td>10866.000000</td>\n",
       "      <td>10866.000000</td>\n",
       "      <td>1.086600e+04</td>\n",
       "      <td>1.086600e+04</td>\n",
       "    </tr>\n",
       "    <tr>\n",
       "      <th>mean</th>\n",
       "      <td>66064.177434</td>\n",
       "      <td>0.646441</td>\n",
       "      <td>1.462570e+07</td>\n",
       "      <td>3.982332e+07</td>\n",
       "      <td>102.070863</td>\n",
       "      <td>217.389748</td>\n",
       "      <td>5.974922</td>\n",
       "      <td>2001.322658</td>\n",
       "      <td>1.755104e+07</td>\n",
       "      <td>5.136436e+07</td>\n",
       "    </tr>\n",
       "    <tr>\n",
       "      <th>std</th>\n",
       "      <td>92130.136561</td>\n",
       "      <td>1.000185</td>\n",
       "      <td>3.091321e+07</td>\n",
       "      <td>1.170035e+08</td>\n",
       "      <td>31.381405</td>\n",
       "      <td>575.619058</td>\n",
       "      <td>0.935142</td>\n",
       "      <td>12.812941</td>\n",
       "      <td>3.430616e+07</td>\n",
       "      <td>1.446325e+08</td>\n",
       "    </tr>\n",
       "    <tr>\n",
       "      <th>min</th>\n",
       "      <td>5.000000</td>\n",
       "      <td>0.000065</td>\n",
       "      <td>0.000000e+00</td>\n",
       "      <td>0.000000e+00</td>\n",
       "      <td>0.000000</td>\n",
       "      <td>10.000000</td>\n",
       "      <td>1.500000</td>\n",
       "      <td>1960.000000</td>\n",
       "      <td>0.000000e+00</td>\n",
       "      <td>0.000000e+00</td>\n",
       "    </tr>\n",
       "    <tr>\n",
       "      <th>25%</th>\n",
       "      <td>10596.250000</td>\n",
       "      <td>0.207583</td>\n",
       "      <td>0.000000e+00</td>\n",
       "      <td>0.000000e+00</td>\n",
       "      <td>90.000000</td>\n",
       "      <td>17.000000</td>\n",
       "      <td>5.400000</td>\n",
       "      <td>1995.000000</td>\n",
       "      <td>0.000000e+00</td>\n",
       "      <td>0.000000e+00</td>\n",
       "    </tr>\n",
       "    <tr>\n",
       "      <th>50%</th>\n",
       "      <td>20669.000000</td>\n",
       "      <td>0.383856</td>\n",
       "      <td>0.000000e+00</td>\n",
       "      <td>0.000000e+00</td>\n",
       "      <td>99.000000</td>\n",
       "      <td>38.000000</td>\n",
       "      <td>6.000000</td>\n",
       "      <td>2006.000000</td>\n",
       "      <td>0.000000e+00</td>\n",
       "      <td>0.000000e+00</td>\n",
       "    </tr>\n",
       "    <tr>\n",
       "      <th>75%</th>\n",
       "      <td>75610.000000</td>\n",
       "      <td>0.713817</td>\n",
       "      <td>1.500000e+07</td>\n",
       "      <td>2.400000e+07</td>\n",
       "      <td>111.000000</td>\n",
       "      <td>145.750000</td>\n",
       "      <td>6.600000</td>\n",
       "      <td>2011.000000</td>\n",
       "      <td>2.085325e+07</td>\n",
       "      <td>3.369710e+07</td>\n",
       "    </tr>\n",
       "    <tr>\n",
       "      <th>max</th>\n",
       "      <td>417859.000000</td>\n",
       "      <td>32.985763</td>\n",
       "      <td>4.250000e+08</td>\n",
       "      <td>2.781506e+09</td>\n",
       "      <td>900.000000</td>\n",
       "      <td>9767.000000</td>\n",
       "      <td>9.200000</td>\n",
       "      <td>2015.000000</td>\n",
       "      <td>4.250000e+08</td>\n",
       "      <td>2.827124e+09</td>\n",
       "    </tr>\n",
       "  </tbody>\n",
       "</table>\n",
       "</div>"
      ],
      "text/plain": [
       "                  id    popularity        budget       revenue       runtime  \\\n",
       "count   10866.000000  10866.000000  1.086600e+04  1.086600e+04  10866.000000   \n",
       "mean    66064.177434      0.646441  1.462570e+07  3.982332e+07    102.070863   \n",
       "std     92130.136561      1.000185  3.091321e+07  1.170035e+08     31.381405   \n",
       "min         5.000000      0.000065  0.000000e+00  0.000000e+00      0.000000   \n",
       "25%     10596.250000      0.207583  0.000000e+00  0.000000e+00     90.000000   \n",
       "50%     20669.000000      0.383856  0.000000e+00  0.000000e+00     99.000000   \n",
       "75%     75610.000000      0.713817  1.500000e+07  2.400000e+07    111.000000   \n",
       "max    417859.000000     32.985763  4.250000e+08  2.781506e+09    900.000000   \n",
       "\n",
       "         vote_count  vote_average  release_year    budget_adj   revenue_adj  \n",
       "count  10866.000000  10866.000000  10866.000000  1.086600e+04  1.086600e+04  \n",
       "mean     217.389748      5.974922   2001.322658  1.755104e+07  5.136436e+07  \n",
       "std      575.619058      0.935142     12.812941  3.430616e+07  1.446325e+08  \n",
       "min       10.000000      1.500000   1960.000000  0.000000e+00  0.000000e+00  \n",
       "25%       17.000000      5.400000   1995.000000  0.000000e+00  0.000000e+00  \n",
       "50%       38.000000      6.000000   2006.000000  0.000000e+00  0.000000e+00  \n",
       "75%      145.750000      6.600000   2011.000000  2.085325e+07  3.369710e+07  \n",
       "max     9767.000000      9.200000   2015.000000  4.250000e+08  2.827124e+09  "
      ]
     },
     "execution_count": 4,
     "metadata": {},
     "output_type": "execute_result"
    }
   ],
   "source": [
    "#Getting descriptive statistics for numeric columns (floats and intergers) in the data set.\n",
    "df_main.describe()"
   ]
  },
  {
   "cell_type": "markdown",
   "metadata": {
    "collapsed": true
   },
   "source": [
    "Looking at the above outputs we can see a couple key points already.  The *relevant* columns for this analysis are in the **correct data type** for comparison, there is **no blanks** or gaps in the data, and the data shows some **interesting descriptive statistics**. \n",
    "\n",
    "For example, the data set covers a *range of 55 years’* worth of movie data with the first quartile of the movies covering a range of 35 years and the last quartile covering just 4 years. Meaning that roughly the *same number of movies* was made in the *first 35 years* of this data set as were made in the *last 4 years.* The data also shows that there are **movies with no runtime, budget, and movies with no revenue.** The data didn’t show any blanks for those columns but there might be zeros to hold the place value for missing data.  Further exploration will need to be done on those columns before making it to the next phase. "
   ]
  },
  {
   "cell_type": "code",
   "execution_count": 5,
   "metadata": {},
   "outputs": [
    {
     "data": {
      "text/plain": [
       "5696"
      ]
     },
     "execution_count": 5,
     "metadata": {},
     "output_type": "execute_result"
    }
   ],
   "source": [
    "#how many movies had zero filled in for a budget\n",
    "df_main.query(\"budget == 0\")['id'].count()"
   ]
  },
  {
   "cell_type": "code",
   "execution_count": 6,
   "metadata": {},
   "outputs": [
    {
     "data": {
      "text/plain": [
       "31"
      ]
     },
     "execution_count": 6,
     "metadata": {},
     "output_type": "execute_result"
    }
   ],
   "source": [
    "#how many movies had zero filled in for runtime\n",
    "df_main.query(\"runtime == 0\")['id'].count()"
   ]
  },
  {
   "cell_type": "code",
   "execution_count": 7,
   "metadata": {},
   "outputs": [
    {
     "data": {
      "text/plain": [
       "release_year\n",
       "2000    1\n",
       "2002    2\n",
       "2003    1\n",
       "2005    2\n",
       "2006    1\n",
       "2008    1\n",
       "2009    1\n",
       "2010    2\n",
       "2011    3\n",
       "2012    2\n",
       "2013    5\n",
       "2014    3\n",
       "2015    7\n",
       "Name: id, dtype: int64"
      ]
     },
     "execution_count": 7,
     "metadata": {},
     "output_type": "execute_result"
    }
   ],
   "source": [
    "#how many movies had zero filled in for all three columns and by what year did they 'release'\n",
    "df_main.query(\"revenue == 0\" and \"budget == 0\" and \"runtime == 0\").groupby(['release_year'])['id'].count()"
   ]
  },
  {
   "cell_type": "code",
   "execution_count": 8,
   "metadata": {},
   "outputs": [
    {
     "data": {
      "image/png": "[encoded data removed]",
      "text/plain": [
       "<matplotlib.figure.Figure at 0x25cd8d0a748>"
      ]
     },
     "metadata": {},
     "output_type": "display_data"
    }
   ],
   "source": [
    "#plotting the history of movies with budget data vs those without and the % of change\n",
    "#getting the data frame broken down to the desired buckets\n",
    "zero_data = df_main.query(\"revenue == 0\" and \"budget == 0\").groupby(['release_year'])['id'].count()\n",
    "some_data = df_main.query(\"revenue != 0\" and \"budget != 0\").groupby(['release_year'])['id'].count()\n",
    "diff_data = zero_data - some_data\n",
    "total_data = zero_data + some_data\n",
    "diff_data_percent = diff_data / total_data * 100\n",
    "\n",
    "#the first chart, the no budget movies\n",
    "plt.subplot(3, 1, 1)\n",
    "plt.plot(zero_data.index, zero_data)\n",
    "plt.ylabel('No Info')\n",
    "plt.xticks(zero_data.index[0::10],[])\n",
    "plt.ylim(ymax = 470, ymin = 10)\n",
    "\n",
    "plt.title('Quantity of Movies by Budget Information')\n",
    "\n",
    "#the second chart, the movies with budget data\n",
    "plt.subplot(3, 1, 2)\n",
    "plt.plot(some_data.index, some_data)\n",
    "plt.ylabel('Some Info')\n",
    "plt.ylim(ymax = 470, ymin = 10)\n",
    "plt.xticks(some_data.index[0::10],[])\n",
    "\n",
    "#the thrid chart, the change percent between the two data frames\n",
    "plt.subplot(3, 1, 3)\n",
    "plt.plot(diff_data_percent.index, diff_data_percent)\n",
    "plt.ylabel('Difference in %')\n",
    "plt.ylim(ymax = 50, ymin = -50);"
   ]
  },
  {
   "cell_type": "markdown",
   "metadata": {},
   "source": [
    "**What did we learn:** There are 5,700 movies with no budget information and 30 movies with no runtimes.  The movies with no runtime also have no budget nor revenue information. \n",
    "\n",
    "There is a notable number of movies without budget data. Speculation could be made that budget information wasn’t important or that it was harder to maintain records before the 90s.  Then the value of information was realized and the amount of information increased until we get to around 2010 when the sheer number of movies being produced reduces the ability to keep track of the data.  Once again, that is speculation and that portion of the data will be ignored when looking at questions related to budget as it is too great to fill in with the average. "
   ]
  },
  {
   "cell_type": "code",
   "execution_count": 9,
   "metadata": {},
   "outputs": [
    {
     "data": {
      "text/html": [
       "<div>\n",
       "<style>\n",
       "    .dataframe thead tr:only-child th {\n",
       "        text-align: right;\n",
       "    }\n",
       "\n",
       "    .dataframe thead th {\n",
       "        text-align: left;\n",
       "    }\n",
       "\n",
       "    .dataframe tbody tr th {\n",
       "        vertical-align: top;\n",
       "    }\n",
       "</style>\n",
       "<table border=\"1\" class=\"dataframe\">\n",
       "  <thead>\n",
       "    <tr style=\"text-align: right;\">\n",
       "      <th></th>\n",
       "      <th>id</th>\n",
       "      <th>budget</th>\n",
       "      <th>revenue</th>\n",
       "      <th>original_title</th>\n",
       "      <th>vote_average</th>\n",
       "      <th>release_year</th>\n",
       "    </tr>\n",
       "  </thead>\n",
       "  <tbody>\n",
       "    <tr>\n",
       "      <th>0</th>\n",
       "      <td>135397</td>\n",
       "      <td>150000000</td>\n",
       "      <td>1513528810</td>\n",
       "      <td>Jurassic World</td>\n",
       "      <td>6.5</td>\n",
       "      <td>2015</td>\n",
       "    </tr>\n",
       "    <tr>\n",
       "      <th>1</th>\n",
       "      <td>76341</td>\n",
       "      <td>150000000</td>\n",
       "      <td>378436354</td>\n",
       "      <td>Mad Max: Fury Road</td>\n",
       "      <td>7.1</td>\n",
       "      <td>2015</td>\n",
       "    </tr>\n",
       "    <tr>\n",
       "      <th>2</th>\n",
       "      <td>262500</td>\n",
       "      <td>110000000</td>\n",
       "      <td>295238201</td>\n",
       "      <td>Insurgent</td>\n",
       "      <td>6.3</td>\n",
       "      <td>2015</td>\n",
       "    </tr>\n",
       "    <tr>\n",
       "      <th>3</th>\n",
       "      <td>140607</td>\n",
       "      <td>200000000</td>\n",
       "      <td>2068178225</td>\n",
       "      <td>Star Wars: The Force Awakens</td>\n",
       "      <td>7.5</td>\n",
       "      <td>2015</td>\n",
       "    </tr>\n",
       "  </tbody>\n",
       "</table>\n",
       "</div>"
      ],
      "text/plain": [
       "       id     budget     revenue                original_title  vote_average  \\\n",
       "0  135397  150000000  1513528810                Jurassic World           6.5   \n",
       "1   76341  150000000   378436354            Mad Max: Fury Road           7.1   \n",
       "2  262500  110000000   295238201                     Insurgent           6.3   \n",
       "3  140607  200000000  2068178225  Star Wars: The Force Awakens           7.5   \n",
       "\n",
       "   release_year  \n",
       "0          2015  \n",
       "1          2015  \n",
       "2          2015  \n",
       "3          2015  "
      ]
     },
     "execution_count": 9,
     "metadata": {},
     "output_type": "execute_result"
    }
   ],
   "source": [
    "#creating the new data frame to explore the budget questions\n",
    "df_budget = df_main.query(\"revenue != 0\" and \"budget != 0\")\n",
    "\n",
    "#selecting only the relavent columns for the given questions\n",
    "df_budget = df_budget[['id', 'budget', 'revenue', 'original_title', 'vote_average', 'release_year']]\n",
    "df_budget.head(4)"
   ]
  },
  {
   "cell_type": "code",
   "execution_count": 10,
   "metadata": {},
   "outputs": [
    {
     "data": {
      "text/html": [
       "<div>\n",
       "<style>\n",
       "    .dataframe thead tr:only-child th {\n",
       "        text-align: right;\n",
       "    }\n",
       "\n",
       "    .dataframe thead th {\n",
       "        text-align: left;\n",
       "    }\n",
       "\n",
       "    .dataframe tbody tr th {\n",
       "        vertical-align: top;\n",
       "    }\n",
       "</style>\n",
       "<table border=\"1\" class=\"dataframe\">\n",
       "  <thead>\n",
       "    <tr style=\"text-align: right;\">\n",
       "      <th></th>\n",
       "      <th>id</th>\n",
       "      <th>budget</th>\n",
       "      <th>revenue</th>\n",
       "      <th>vote_average</th>\n",
       "      <th>release_year</th>\n",
       "    </tr>\n",
       "  </thead>\n",
       "  <tbody>\n",
       "    <tr>\n",
       "      <th>count</th>\n",
       "      <td>5170.000000</td>\n",
       "      <td>5.170000e+03</td>\n",
       "      <td>5.170000e+03</td>\n",
       "      <td>5170.000000</td>\n",
       "      <td>5170.000000</td>\n",
       "    </tr>\n",
       "    <tr>\n",
       "      <th>mean</th>\n",
       "      <td>45513.083366</td>\n",
       "      <td>3.073943e+07</td>\n",
       "      <td>8.027566e+07</td>\n",
       "      <td>6.032108</td>\n",
       "      <td>2001.252805</td>\n",
       "    </tr>\n",
       "    <tr>\n",
       "      <th>std</th>\n",
       "      <td>72723.324150</td>\n",
       "      <td>3.890065e+07</td>\n",
       "      <td>1.594749e+08</td>\n",
       "      <td>0.884156</td>\n",
       "      <td>11.775932</td>\n",
       "    </tr>\n",
       "    <tr>\n",
       "      <th>min</th>\n",
       "      <td>5.000000</td>\n",
       "      <td>1.000000e+00</td>\n",
       "      <td>0.000000e+00</td>\n",
       "      <td>1.500000</td>\n",
       "      <td>1960.000000</td>\n",
       "    </tr>\n",
       "    <tr>\n",
       "      <th>25%</th>\n",
       "      <td>8840.500000</td>\n",
       "      <td>6.000000e+06</td>\n",
       "      <td>0.000000e+00</td>\n",
       "      <td>5.500000</td>\n",
       "      <td>1996.000000</td>\n",
       "    </tr>\n",
       "    <tr>\n",
       "      <th>50%</th>\n",
       "      <td>13010.000000</td>\n",
       "      <td>1.700000e+07</td>\n",
       "      <td>2.100078e+07</td>\n",
       "      <td>6.100000</td>\n",
       "      <td>2005.000000</td>\n",
       "    </tr>\n",
       "    <tr>\n",
       "      <th>75%</th>\n",
       "      <td>44935.250000</td>\n",
       "      <td>4.000000e+07</td>\n",
       "      <td>8.942473e+07</td>\n",
       "      <td>6.600000</td>\n",
       "      <td>2010.000000</td>\n",
       "    </tr>\n",
       "    <tr>\n",
       "      <th>max</th>\n",
       "      <td>417859.000000</td>\n",
       "      <td>4.250000e+08</td>\n",
       "      <td>2.781506e+09</td>\n",
       "      <td>8.400000</td>\n",
       "      <td>2015.000000</td>\n",
       "    </tr>\n",
       "  </tbody>\n",
       "</table>\n",
       "</div>"
      ],
      "text/plain": [
       "                  id        budget       revenue  vote_average  release_year\n",
       "count    5170.000000  5.170000e+03  5.170000e+03   5170.000000   5170.000000\n",
       "mean    45513.083366  3.073943e+07  8.027566e+07      6.032108   2001.252805\n",
       "std     72723.324150  3.890065e+07  1.594749e+08      0.884156     11.775932\n",
       "min         5.000000  1.000000e+00  0.000000e+00      1.500000   1960.000000\n",
       "25%      8840.500000  6.000000e+06  0.000000e+00      5.500000   1996.000000\n",
       "50%     13010.000000  1.700000e+07  2.100078e+07      6.100000   2005.000000\n",
       "75%     44935.250000  4.000000e+07  8.942473e+07      6.600000   2010.000000\n",
       "max    417859.000000  4.250000e+08  2.781506e+09      8.400000   2015.000000"
      ]
     },
     "execution_count": 10,
     "metadata": {},
     "output_type": "execute_result"
    }
   ],
   "source": [
    "#descriptive statistics for the new data frame \n",
    "df_budget.describe()"
   ]
  },
  {
   "cell_type": "markdown",
   "metadata": {},
   "source": [
    "**On to the first question:**\n",
    "Does the budget amount provide a good indicator of how the movie will be voted?"
   ]
  },
  {
   "cell_type": "code",
   "execution_count": 11,
   "metadata": {},
   "outputs": [
    {
     "data": {
      "image/png": "[encoded data removed]",
      "text/plain": [
       "<matplotlib.figure.Figure at 0x25cd8d0a160>"
      ]
     },
     "metadata": {},
     "output_type": "display_data"
    }
   ],
   "source": [
    "#Plot to show the correlation between budget and veiwer's votes\n",
    "x = df_budget.vote_average\n",
    "y = df_budget.budget\n",
    "plt.scatter(x, y)\n",
    "plt.ylabel(\"Budgeted in 100 Million\")\n",
    "plt.xlabel(\"Vote Average\")\n",
    "plt.title(\"Amount Budgeted vs Veiwer Vote\");"
   ]
  },
  {
   "cell_type": "markdown",
   "metadata": {},
   "source": [
    "Looking at the above scatter plot it appears that there isn't a strong correlation between the movie's budget and what the viewers vote.  Looking at just the chart above one could say that spending more money will help guarantee a none low rated movie, but it does not guarantee that the money had to have been spent to make it a high rated movie.  Note that the lowest budgeted movies have the highest and lowest rated movies."
   ]
  },
  {
   "cell_type": "code",
   "execution_count": 12,
   "metadata": {},
   "outputs": [
    {
     "data": {
      "image/png": "[encoded data removed]",
      "text/plain": [
       "<matplotlib.figure.Figure at 0x25cd9090550>"
      ]
     },
     "metadata": {},
     "output_type": "display_data"
    }
   ],
   "source": [
    "df_budget.vote_average.plot(kind = 'hist')\n",
    "plt.ylabel(\"Frequency of Votes\")\n",
    "plt.xlabel(\"Average Vote\")\n",
    "plt.title(\"Frequency of the Movie's Average Vote\");"
   ]
  },
  {
   "cell_type": "code",
   "execution_count": 13,
   "metadata": {},
   "outputs": [
    {
     "data": {
      "text/plain": [
       "0.092006600073478925"
      ]
     },
     "execution_count": 13,
     "metadata": {},
     "output_type": "execute_result"
    }
   ],
   "source": [
    "#calculating the correlation coefficent\n",
    "df_budget.budget.corr(df_budget.vote_average)"
   ]
  },
  {
   "cell_type": "markdown",
   "metadata": {},
   "source": [
    "This histograph shows that there is a normal distribution of votes across the movies.  That means there is a 68% chance that the movie will be rated between 5.2 and 6.9 regardless what was spent to make the movie.  Opening the range there is a 95% that movie would hit no higher than 7.8 and no lower than 4.3 on the average vote.  Furthermore, a very strong positive correlation would have a coefficent of 1 and no correlation would have a 0.  The results of 0.092 shows that it has a slight correlation but not one of note.   I feel that it is safe to say that the budget is not a good indicator of how the movie will be voted upon.  \n",
    "\n",
    "*I used some of the descriptive statistics from a few cells up to help calculate those ranges.  The bins in the graph were not broken down far enough to know the tenths place.*\n",
    "\n",
    "**On to the second question:** Does budget predict revenue?  Do you truly have to spend money to make money?"
   ]
  },
  {
   "cell_type": "code",
   "execution_count": 14,
   "metadata": {
    "scrolled": true
   },
   "outputs": [
    {
     "data": {
      "image/png": "[encoded data removed]",
      "text/plain": [
       "<matplotlib.figure.Figure at 0x25cd90ed0f0>"
      ]
     },
     "metadata": {},
     "output_type": "display_data"
    }
   ],
   "source": [
    "#Plot to show the correlation between budget and revenue\n",
    "x = df_budget.revenue\n",
    "y = df_budget.budget\n",
    "plt.scatter(x, y)\n",
    "plt.ylabel(\"Budgeted in 100 Millions\")\n",
    "plt.xlabel(\"Revenue in Billions\")\n",
    "plt.title(\"Amount Budgeted vs Revenue Amount\");"
   ]
  },
  {
   "cell_type": "code",
   "execution_count": 15,
   "metadata": {},
   "outputs": [
    {
     "data": {
      "text/plain": [
       "0.70014677840306061"
      ]
     },
     "execution_count": 15,
     "metadata": {},
     "output_type": "execute_result"
    }
   ],
   "source": [
    "#calculating the correlation coefficent\n",
    "df_budget.budget.corr(df_budget.revenue)"
   ]
  },
  {
   "cell_type": "markdown",
   "metadata": {},
   "source": [
    "There is a strong correlation between the amount budgeted and the amount returned in revenue.  The hand full of outliers, the ones that show the nightmare and fantasy outcomes of the movie business, can distract from the general upward path that starts in the lower left-hand corner and works its way up to the right-hand corner.  \n",
    "\n",
    "**On to the third question:** Does the number of movies being released correlate to the state of the economy?\n",
    "\n",
    "To answer this question, I will need to reference more data.  This data comes from *www.bea.gov* and shows the economic health of the nation in terms of gross domestic product, GDP.  I downloaded it and saved it as *us_gdp_history.csv*"
   ]
  },
  {
   "cell_type": "code",
   "execution_count": 16,
   "metadata": {},
   "outputs": [
    {
     "data": {
      "text/html": [
       "<div>\n",
       "<style>\n",
       "    .dataframe thead tr:only-child th {\n",
       "        text-align: right;\n",
       "    }\n",
       "\n",
       "    .dataframe thead th {\n",
       "        text-align: left;\n",
       "    }\n",
       "\n",
       "    .dataframe tbody tr th {\n",
       "        vertical-align: top;\n",
       "    }\n",
       "</style>\n",
       "<table border=\"1\" class=\"dataframe\">\n",
       "  <thead>\n",
       "    <tr style=\"text-align: right;\">\n",
       "      <th></th>\n",
       "      <th>year</th>\n",
       "      <th>nominal_gdp</th>\n",
       "      <th>real_gdp</th>\n",
       "    </tr>\n",
       "  </thead>\n",
       "  <tbody>\n",
       "    <tr>\n",
       "      <th>0</th>\n",
       "      <td>1960</td>\n",
       "      <td>5.430000e+11</td>\n",
       "      <td>3.109000e+12</td>\n",
       "    </tr>\n",
       "    <tr>\n",
       "      <th>1</th>\n",
       "      <td>1961</td>\n",
       "      <td>5.630000e+11</td>\n",
       "      <td>3.188000e+12</td>\n",
       "    </tr>\n",
       "  </tbody>\n",
       "</table>\n",
       "</div>"
      ],
      "text/plain": [
       "   year   nominal_gdp      real_gdp\n",
       "0  1960  5.430000e+11  3.109000e+12\n",
       "1  1961  5.630000e+11  3.188000e+12"
      ]
     },
     "execution_count": 16,
     "metadata": {},
     "output_type": "execute_result"
    }
   ],
   "source": [
    "#importing the new data frame\n",
    "df_gdp = pd.read_csv('us_gdp_history.csv')\n",
    "df_gdp.head(2)"
   ]
  },
  {
   "cell_type": "code",
   "execution_count": 17,
   "metadata": {},
   "outputs": [
    {
     "data": {
      "text/html": [
       "<div>\n",
       "<style>\n",
       "    .dataframe thead tr:only-child th {\n",
       "        text-align: right;\n",
       "    }\n",
       "\n",
       "    .dataframe thead th {\n",
       "        text-align: left;\n",
       "    }\n",
       "\n",
       "    .dataframe tbody tr th {\n",
       "        vertical-align: top;\n",
       "    }\n",
       "</style>\n",
       "<table border=\"1\" class=\"dataframe\">\n",
       "  <thead>\n",
       "    <tr style=\"text-align: right;\">\n",
       "      <th></th>\n",
       "      <th>id</th>\n",
       "      <th>imdb_id</th>\n",
       "      <th>popularity</th>\n",
       "      <th>budget</th>\n",
       "      <th>revenue</th>\n",
       "      <th>original_title</th>\n",
       "      <th>cast</th>\n",
       "      <th>homepage</th>\n",
       "      <th>director</th>\n",
       "      <th>tagline</th>\n",
       "      <th>keywords</th>\n",
       "      <th>overview</th>\n",
       "      <th>runtime</th>\n",
       "      <th>genres</th>\n",
       "      <th>production_companies</th>\n",
       "      <th>release_date</th>\n",
       "      <th>vote_count</th>\n",
       "      <th>vote_average</th>\n",
       "      <th>budget_adj</th>\n",
       "      <th>revenue_adj</th>\n",
       "    </tr>\n",
       "    <tr>\n",
       "      <th>release_year</th>\n",
       "      <th></th>\n",
       "      <th></th>\n",
       "      <th></th>\n",
       "      <th></th>\n",
       "      <th></th>\n",
       "      <th></th>\n",
       "      <th></th>\n",
       "      <th></th>\n",
       "      <th></th>\n",
       "      <th></th>\n",
       "      <th></th>\n",
       "      <th></th>\n",
       "      <th></th>\n",
       "      <th></th>\n",
       "      <th></th>\n",
       "      <th></th>\n",
       "      <th></th>\n",
       "      <th></th>\n",
       "      <th></th>\n",
       "      <th></th>\n",
       "    </tr>\n",
       "  </thead>\n",
       "  <tbody>\n",
       "    <tr>\n",
       "      <th>1960</th>\n",
       "      <td>32.0</td>\n",
       "      <td>32.0</td>\n",
       "      <td>32.0</td>\n",
       "      <td>32.0</td>\n",
       "      <td>32.0</td>\n",
       "      <td>32.0</td>\n",
       "      <td>32.0</td>\n",
       "      <td>0.0</td>\n",
       "      <td>32.0</td>\n",
       "      <td>28.0</td>\n",
       "      <td>30.0</td>\n",
       "      <td>32.0</td>\n",
       "      <td>32.0</td>\n",
       "      <td>32.0</td>\n",
       "      <td>32.0</td>\n",
       "      <td>32.0</td>\n",
       "      <td>32.0</td>\n",
       "      <td>32.0</td>\n",
       "      <td>32.0</td>\n",
       "      <td>32.0</td>\n",
       "    </tr>\n",
       "    <tr>\n",
       "      <th>1961</th>\n",
       "      <td>31.0</td>\n",
       "      <td>31.0</td>\n",
       "      <td>31.0</td>\n",
       "      <td>31.0</td>\n",
       "      <td>31.0</td>\n",
       "      <td>31.0</td>\n",
       "      <td>31.0</td>\n",
       "      <td>1.0</td>\n",
       "      <td>31.0</td>\n",
       "      <td>27.0</td>\n",
       "      <td>29.0</td>\n",
       "      <td>31.0</td>\n",
       "      <td>31.0</td>\n",
       "      <td>31.0</td>\n",
       "      <td>30.0</td>\n",
       "      <td>31.0</td>\n",
       "      <td>31.0</td>\n",
       "      <td>31.0</td>\n",
       "      <td>31.0</td>\n",
       "      <td>31.0</td>\n",
       "    </tr>\n",
       "  </tbody>\n",
       "</table>\n",
       "</div>"
      ],
      "text/plain": [
       "                id  imdb_id  popularity  budget  revenue  original_title  \\\n",
       "release_year                                                               \n",
       "1960          32.0     32.0        32.0    32.0     32.0            32.0   \n",
       "1961          31.0     31.0        31.0    31.0     31.0            31.0   \n",
       "\n",
       "              cast  homepage  director  tagline  keywords  overview  runtime  \\\n",
       "release_year                                                                   \n",
       "1960          32.0       0.0      32.0     28.0      30.0      32.0     32.0   \n",
       "1961          31.0       1.0      31.0     27.0      29.0      31.0     31.0   \n",
       "\n",
       "              genres  production_companies  release_date  vote_count  \\\n",
       "release_year                                                           \n",
       "1960            32.0                  32.0          32.0        32.0   \n",
       "1961            31.0                  30.0          31.0        31.0   \n",
       "\n",
       "              vote_average  budget_adj  revenue_adj  \n",
       "release_year                                         \n",
       "1960                  32.0        32.0         32.0  \n",
       "1961                  31.0        31.0         31.0  "
      ]
     },
     "execution_count": 17,
     "metadata": {},
     "output_type": "execute_result"
    }
   ],
   "source": [
    "#pulling out just the number of movies per year from the main data frame\n",
    "df_year_qty = df_main.groupby(['release_year']).count().astype(float)\n",
    "df_year_qty.head(2)"
   ]
  },
  {
   "cell_type": "code",
   "execution_count": 18,
   "metadata": {},
   "outputs": [
    {
     "data": {
      "image/png": "[encoded data removed]",
      "text/plain": [
       "<matplotlib.figure.Figure at 0x25cd94b7eb8>"
      ]
     },
     "metadata": {},
     "output_type": "display_data"
    }
   ],
   "source": [
    "#Plot to show the correlation between gdp and movie qty\n",
    "x = df_gdp.real_gdp\n",
    "y = df_year_qty.id\n",
    "plt.scatter(x, y)\n",
    "plt.ylabel(\"Number of Movies Released\")\n",
    "plt.xlabel(\"GDP in Trillions\")\n",
    "plt.title(\"Movie QTY vs GDP\");"
   ]
  },
  {
   "cell_type": "code",
   "execution_count": 19,
   "metadata": {},
   "outputs": [
    {
     "data": {
      "image/png": "[encoded data removed]",
      "text/plain": [
       "<matplotlib.figure.Figure at 0x25cd947df60>"
      ]
     },
     "metadata": {},
     "output_type": "display_data"
    }
   ],
   "source": [
    "#exploring the timeline of the economic health and the average budget for a movie\n",
    "df_year_mean = df_main.groupby(['release_year']).mean().astype(float)\n",
    "\n",
    "plt.subplot(3,1,1)\n",
    "df_gdp.real_gdp.plot()\n",
    "plt.ylabel(\"GDP in Trillions\")\n",
    "plt.xticks(df_gdp.real_gdp.index[0::10], [])\n",
    "plt.title(\"Timeline\")\n",
    "\n",
    "plt.subplot(3,1,2)\n",
    "df_year_qty.id.plot()\n",
    "plt.xticks(df_year_qty.id.index[0::10], [])\n",
    "plt.ylabel(\"QTY\")\n",
    "\n",
    "plt.subplot(3,1,3)\n",
    "df_year_mean.budget.plot()\n",
    "plt.ylabel(\"AVG Budget in Mills\");"
   ]
  },
  {
   "cell_type": "code",
   "execution_count": 20,
   "metadata": {},
   "outputs": [
    {
     "data": {
      "image/png": "[encoded data removed]",
      "text/plain": [
       "<matplotlib.figure.Figure at 0x25cd94642e8>"
      ]
     },
     "metadata": {},
     "output_type": "display_data"
    }
   ],
   "source": [
    "#Exploring the connection between average budget and qty of movies being released\n",
    "\n",
    "y = df_year_mean.budget\n",
    "x = df_year_qty.id\n",
    "plt.scatter(x, y)\n",
    "plt.xlabel(\"Number of Movies Released\")\n",
    "plt.ylabel(\"Average Budget in Millions\")\n",
    "plt.title(\"Movie QTY vs Average Budget\");"
   ]
  },
  {
   "cell_type": "markdown",
   "metadata": {},
   "source": [
    "There is a very strong 0.92 correlation coefficient that shows the number of movies being released per year is connected to the state of the economy.  \n",
    "\n",
    "\n",
    "**In summary:**  The amount of money spent of a movie does not have a connection to how the movie will be voted upon, however, the amount budgeted does have a good connection to how much the movie will bring in.  Using one’s gut this finding feels correct.  \n",
    "*Let’s imagine that you have only enough money for one of the two new movies that came out this week.  If a studio spent more money on movie “A” than movie “B” then you would probably decide to spend your money on movie “A” and if you are still interested in the “B” movie you might rent it when it comes out to DVD/Blu-ray.  This looks to be a sound bet, but it does not consider the quality of the movie.  The truth could be that movie “A” is filled with expensive talent that is coasting off their established name and the writers are recycling jokes that made money the last time all while movie “B” is using cheaper unestablished talent that is willing to give it all they have, just to make it on their ‘big break’ with writers that don’t care what sells, they think the script would be entertaining to them.*  \n",
    "\n",
    "The above scenario is just a theory that can't be proven right nor wrong because the data isn’t there.  The data does not tell why a movie was rated the way it was.  If the data showed the rating for the overall movie then went deeper and gave a rating of the acting/characters of the movie, a rating of the special effects, and a rating of the storyline then at that point one might be able to uncovering the causation of the movie rating.  For now, all we have is the observation that out of the half of the movie data set that had budget data, the movies that spent more also made more and the public rated the movie with no correlation to how much was spent.  \n",
    "\n",
    "How much was spent on movies in terms of how many movies were produced is strongly correlated to the economic health of the nation.  It would be easy to say that healthier the economy is the more movies will be released.  It even sounds logical, the more money that is being spent nation wide then the more money that will be spent on movies.  If that were true we then should be able to predict how many movies will be released in a given year with a significant change to the economy rather by a depression or major expansion.  Yet the data shows a trend that challenges that as a potential causation.  Up until the mid-90s the movie business had minimal increase over the previous year.  Then the average budget began to climb, peaking out around the turn of the century.  At that point; something had to have broken loose, cannot be positive what broke loose as the data does not tell, but whatever it was the average budget began to drop and the number of movies being released exponentially increased.  What broke loose could have been the cost to enter the movie business or the movie studios could have switched focus to quantity over quality, either way there is more to the number of movies a year than just the economic health. \n"
   ]
  }
 ],
 "metadata": {
  "kernelspec": {
   "display_name": "Python 3",
   "language": "python",
   "name": "python3"
  },
  "language_info": {
   "codemirror_mode": {
    "name": "ipython",
    "version": 3
   },
   "file_extension": ".py",
   "mimetype": "text/x-python",
   "name": "python",
   "nbconvert_exporter": "python",
   "pygments_lexer": "ipython3",
   "version": "3.6.3"
  }
 },
 "nbformat": 4,
 "nbformat_minor": 2
}
